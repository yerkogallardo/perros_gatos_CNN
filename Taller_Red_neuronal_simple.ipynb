{
  "nbformat": 4,
  "nbformat_minor": 0,
  "metadata": {
    "colab": {
      "name": "Taller_Red_neuronal_simple.ipynb",
      "provenance": [],
      "collapsed_sections": [],
      "authorship_tag": "ABX9TyNbzQIv/gRC8XfokOIqYdDO",
      "include_colab_link": true
    },
    "kernelspec": {
      "name": "python3",
      "display_name": "Python 3"
    },
    "language_info": {
      "name": "python"
    }
  },
  "cells": [
    {
      "cell_type": "markdown",
      "metadata": {
        "id": "view-in-github",
        "colab_type": "text"
      },
      "source": [
        "<a href=\"https://colab.research.google.com/github/yerkogallardo/perros_gatos_CNN/blob/main/Taller_Red_neuronal_simple.ipynb\" target=\"_parent\"><img src=\"https://colab.research.google.com/assets/colab-badge.svg\" alt=\"Open In Colab\"/></a>"
      ]
    },
    {
      "cell_type": "markdown",
      "source": [
        "# **Taller 1 de Redes Neuronales** 🧠💪🏼⚡\n",
        "\n",
        "### **Parte práctica**\n",
        "\n",
        "Esto es un Notebook de desarrollo, es una de las herramientas que los científicos de datos usamos de forma cotidiana para trabajar un modelo de Machine Learning o una Red Neuronal.  En este caso, es un notebook en la plataforma Google Colab, que nos permite sin necesidad de instalar nada en nuestro computador trabajar con Python y las librerias con las que vamos a realizar este taller.\n",
        "\n",
        "### **Instrucciones:**\n",
        "\n",
        "En este notebook encontrarás todo el código para montar una red neuronal capaz de encontrar el valor del siguiente número Fibonacci\n",
        "\n",
        "En cada celda de código tendrás una parte para que puedas rellenar código y algunas donde podrás cambiar a tu gusto."
      ],
      "metadata": {
        "id": "CIr3xeOh4pQV"
      }
    },
    {
      "cell_type": "code",
      "source": [
        "## Importamos las librerías necesarias para nuestra red neuronal\n",
        "\n",
        "import numpy as np\n",
        "import matplotlib.pyplot as plt\n",
        "import tensorflow as tf"
      ],
      "metadata": {
        "id": "1OsGwbCqPxDO"
      },
      "execution_count": 1,
      "outputs": []
    },
    {
      "cell_type": "code",
      "source": [
        "## Creamos nuestro set de datos con algunos números Fibonacci al azar en la lista fibo\n",
        "## y con su siguiente número Fibonacci en la siguiente lista.\n",
        "\n",
        "fibo = np.array([8, 55, 144, 610, 4181, 46368, 2178309], dtype=float)\n",
        "sig_fibo = np.array([13, 89, 233, 987, 6765, 75025, 3524578], dtype=float)"
      ],
      "metadata": {
        "id": "0e3xJ9l6P2gd"
      },
      "execution_count": null,
      "outputs": []
    },
    {
      "cell_type": "code",
      "source": [
        "## Creando nuestra red neuronal, en realidad es solo una neurona 😬\n",
        "\n",
        "capa = tf.keras.layers.Dense(units=1, input_shape=[1])\n",
        "model = tf.keras.Sequential([capa])"
      ],
      "metadata": {
        "id": "KUK0Kdj6WD-c"
      },
      "execution_count": null,
      "outputs": []
    },
    {
      "cell_type": "code",
      "source": [
        "model.compile(\n",
        "    optimizer = tf.keras.optimizers.Adam(0.1),\n",
        "    loss = 'mean_squared_error'\n",
        ")"
      ],
      "metadata": {
        "id": "G_jUQ726WfDR"
      },
      "execution_count": null,
      "outputs": []
    },
    {
      "cell_type": "code",
      "source": [
        "## Entrenando nuestra neurona 💪🏼\n",
        "\n",
        "train_model = model.fit(fibo, sig_fibo, epochs=250, verbose=False)\n",
        "print(\"Listo!\")"
      ],
      "metadata": {
        "id": "dA8QNKrAXC2D"
      },
      "execution_count": null,
      "outputs": []
    },
    {
      "cell_type": "code",
      "source": [
        "## Veamos como nos va en el entrenamiento\n",
        "\n",
        "plt.xlabel(\"Epoch\")\n",
        "plt.ylabel(\"Pérdida\")\n",
        "plt.plot(train_model.history[\"loss\"])\n",
        "plt.plot()"
      ],
      "metadata": {
        "id": "C36Zmn_RXgA9"
      },
      "execution_count": null,
      "outputs": []
    },
    {
      "cell_type": "code",
      "source": [
        "# Predicción de prueba\n",
        "pred = model.predict([377])\n",
        "print(\"El siguiente número en la serie fibonacci de 377 es \", pred)\n",
        "print(\"Resultado real 610\")"
      ],
      "metadata": {
        "id": "Wi4s_mwtYMUt"
      },
      "execution_count": null,
      "outputs": []
    },
    {
      "cell_type": "code",
      "source": [
        "pred = model.predict([17711])\n",
        "print(\"El siguiente número en la serie fibonacci de 17711 es \", str(pred))\n",
        "print(\"Resultado real 28657\")"
      ],
      "metadata": {
        "id": "OfAcgQr5ZVKV"
      },
      "execution_count": null,
      "outputs": []
    },
    {
      "cell_type": "code",
      "source": [
        "pred = model.predict([55])\n",
        "print(\"El siguiente número en la serie fibonacci de 55 es \", str(pred))\n",
        "print(\"Resultado real 89\")"
      ],
      "metadata": {
        "id": "NsO81hlGaATS"
      },
      "execution_count": null,
      "outputs": []
    },
    {
      "cell_type": "code",
      "source": [
        "print(capa.get_weights())"
      ],
      "metadata": {
        "colab": {
          "base_uri": "https://localhost:8080/"
        },
        "id": "zbhz0QURbR7j",
        "outputId": "30f33fd1-9d05-4d68-c9d6-8a6e53c37006"
      },
      "execution_count": null,
      "outputs": [
        {
          "output_type": "stream",
          "name": "stdout",
          "text": [
            "[array([[1.6180334]], dtype=float32), array([1.2138462], dtype=float32)]\n"
          ]
        }
      ]
    },
    {
      "cell_type": "markdown",
      "source": [
        "Explicación del modelo\n",
        "\n",
        "Al ser un modelo de función lineal sigue la forma de la ecuación lineal\n",
        "\n",
        "$$\n",
        "y = mx + b\n",
        "$$\n",
        "\n",
        "Siendo el peso en este caso de **1.6180334** y su sesgo de **1.2672366**"
      ],
      "metadata": {
        "id": "aHehtMgzcfA9"
      }
    },
    {
      "cell_type": "code",
      "source": [
        "# Ahora vamos a mejorar un poco el modelo agregando un par de capas más para ver como se comporta\n",
        "\n",
        "hidden_1 = tf.keras.layers.Dense(units=3, input_shape=[1])\n",
        "#hidden_2 = tf.keras.layers.Dense(units=3)\n",
        "resultado = tf.keras.layers.Dense(units=1)\n",
        "model = tf.keras.Sequential([hidden_1, resultado])"
      ],
      "metadata": {
        "id": "iwXt7a9ged3C"
      },
      "execution_count": null,
      "outputs": []
    },
    {
      "cell_type": "code",
      "source": [
        "model.compile(\n",
        "    optimizer = tf.keras.optimizers.Adam(0.1),\n",
        "    loss = 'mean_squared_error'\n",
        ")"
      ],
      "metadata": {
        "id": "j4jo-ENifkDW"
      },
      "execution_count": null,
      "outputs": []
    },
    {
      "cell_type": "code",
      "source": [
        "train_model = model.fit(fibo, sig_fibo, epochs=250, verbose=False)\n",
        "print(\"Listo!\")"
      ],
      "metadata": {
        "id": "lzzTaMKEfp7s"
      },
      "execution_count": null,
      "outputs": []
    },
    {
      "cell_type": "code",
      "source": [
        "plt.xlabel(\"Epoch\")\n",
        "plt.ylabel(\"Pérdida\")\n",
        "plt.plot(train_model.history[\"loss\"])\n",
        "plt.plot()"
      ],
      "metadata": {
        "id": "eppZmBQ7fuLF"
      },
      "execution_count": null,
      "outputs": []
    },
    {
      "cell_type": "code",
      "source": [
        "# Predicción de prueba\n",
        "pred = model.predict([377])\n",
        "print(\"El siguiente número en la serie fibonacci de 377 es \", pred)\n",
        "print(\"Resultado real 610\")"
      ],
      "metadata": {
        "id": "kW2OOjRjfzgP"
      },
      "execution_count": null,
      "outputs": []
    },
    {
      "cell_type": "code",
      "source": [
        "pred = model.predict([17711])\n",
        "print(\"El siguiente número en la serie fibonacci de 17711 es \", pred)\n",
        "print(\"Resultado real 28657\")"
      ],
      "metadata": {
        "id": "J5S7I8zCgWsv"
      },
      "execution_count": null,
      "outputs": []
    },
    {
      "cell_type": "code",
      "source": [
        "pred = model.predict([55])\n",
        "print(\"El siguiente número en la serie fibonacci de 55 es \", pred)\n",
        "print(\"Resultado real 89\")"
      ],
      "metadata": {
        "id": "xW4RqZ1GjOs0"
      },
      "execution_count": null,
      "outputs": []
    },
    {
      "cell_type": "markdown",
      "source": [
        "## Ahora te toca a ti ✌🏻\n",
        "\n",
        "Bueno ya que hemos visto como funciona esta red neuronal pequeña, ahora te toca hacerla a ti.\n",
        "\n",
        "Súper simple, te dejaré el mismo código de los número Fibonacci pero debes cambiar los pares por rangos de temperatura fahrenheit y celsius, para luego realizar la predicción de la temperatura."
      ],
      "metadata": {
        "id": "rGXeW3IN8RcZ"
      }
    },
    {
      "cell_type": "code",
      "source": [
        "## Recuerda entre cada valor separar con una coma\n",
        "\n",
        "fahren = np.array([], dtype=float)\n",
        "celsius = np.array([], dtype=float)"
      ],
      "metadata": {
        "id": "p6TiON6R9M_b"
      },
      "execution_count": null,
      "outputs": []
    },
    {
      "cell_type": "code",
      "source": [
        "capa = tf.keras.layers.Dense(units=1, input_shape=[1])\n",
        "model = tf.keras.Sequential([capa])"
      ],
      "metadata": {
        "id": "RKPz4nHD9ZVC"
      },
      "execution_count": null,
      "outputs": []
    },
    {
      "cell_type": "code",
      "source": [
        "model.compile(\n",
        "    optimizer = tf.keras.optimizers.Adam(0.1),\n",
        "    loss = 'mean_squared_error'\n",
        ")"
      ],
      "metadata": {
        "id": "TT8-7xI49gfq"
      },
      "execution_count": null,
      "outputs": []
    },
    {
      "cell_type": "code",
      "source": [
        "train_model = model.fit(fahren, celsius, epochs=250, verbose=False)\n",
        "print(\"Listo!\")"
      ],
      "metadata": {
        "id": "_O1iZOLl9jny"
      },
      "execution_count": null,
      "outputs": []
    },
    {
      "cell_type": "code",
      "source": [
        "## Para la predicción pon un valor de temperatura fahrenheit dentro del parentesis cuadrado []\n",
        "\n",
        "pred = model.predict([]) # --> dentro de los corchetes pon un valor de temperatura fahrenheit\n",
        "print(\"En grados celsius es \", pred)"
      ],
      "metadata": {
        "id": "Bm0K-21B9tqV"
      },
      "execution_count": null,
      "outputs": []
    }
  ]
}