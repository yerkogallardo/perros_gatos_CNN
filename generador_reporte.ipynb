{
 "cells": [
  {
   "cell_type": "markdown",
   "id": "2c32e8aa",
   "metadata": {},
   "source": [
    "# Generador Reporte\n",
    "\n",
    "Paso final de generación de reportes para la Encuesta de Caracterización Estudiantil 2023, este script toma la portada, realizarda previamente y que se encuentra en el directorio \"portadas\", el cual es un archivo jpg que es colocado como primera imagen para luego tomar el resto de las imágenes consistentes en los distintos gráficos, al finalizar crea un archivo PDF.\n",
    "\n",
    "Se utiliza la librería FPDF para la generación de archivos PDF\n",
    "\n",
    "Este script debe correrse como último paso."
   ]
  },
  {
   "cell_type": "code",
   "execution_count": 29,
   "id": "27267ad5",
   "metadata": {},
   "outputs": [],
   "source": [
    "#!pip install natsort"
   ]
  },
  {
   "cell_type": "code",
   "execution_count": 50,
   "id": "b111e2bb",
   "metadata": {},
   "outputs": [],
   "source": [
    "import glob\n",
    "from fpdf import FPDF\n",
    "from natsort import natsorted\n",
    "import os\n",
    "import re"
   ]
  },
  {
   "cell_type": "code",
   "execution_count": 64,
   "id": "7c76878b",
   "metadata": {},
   "outputs": [],
   "source": [
    "def capit(name):\n",
    "    frase_capitalizada = re.sub(r\"\\b(?!en)\\w\", lambda m: m.group().capitalize(), name)\n",
    "    return frase_capitalizada"
   ]
  },
  {
   "cell_type": "code",
   "execution_count": 67,
   "id": "1533270e",
   "metadata": {},
   "outputs": [],
   "source": [
    "# Configuración de FPDF\n",
    "\n",
    "class PDF(FPDF):\n",
    "    def __init__(self, carrera):\n",
    "        super().__init__()\n",
    "        self.carrera = carrera\n",
    "        self.page_number = 0  # Inicializa el número de página en 0\n",
    "\n",
    "    def header(self):\n",
    "        # Configuración del encabezado\n",
    "        self.set_font(\"Arial\", \"B\", 12)\n",
    "        self.cell(0, 10, \"Encuesta de Caracterización 2023 - \" + self.carrera, 0, 1, \"C\")\n",
    "\n",
    "    def footer(self):\n",
    "        if self.page_number != 1:  # Aquí evalua si es la primera página, para no agregar numeración\n",
    "            # Configuración del pie de página\n",
    "            self.set_y(-15)\n",
    "            self.set_font(\"Arial\", \"I\", 8)\n",
    "            self.cell(0, 10, f\"Página {self.page_no()}\", 0, 0, \"C\")\n",
    "\n",
    "    def add_page(self):\n",
    "        super().add_page()\n",
    "        self.page_number += 1"
   ]
  },
  {
   "cell_type": "code",
   "execution_count": 68,
   "id": "622171a3",
   "metadata": {},
   "outputs": [],
   "source": [
    "def agregar_portada(pdf):\n",
    "    pdf.add_page()\n",
    "    pdf.image('./portadas/portada.jpg', x=0, y=0, w=pdf.w, h=pdf.h)"
   ]
  },
  {
   "cell_type": "code",
   "execution_count": 76,
   "id": "3e01eb4c",
   "metadata": {},
   "outputs": [],
   "source": [
    "def generar_reporte(carrera, ruta_base, subdirectorio):\n",
    "    pdf = PDF(carrera)\n",
    "    pdf.set_auto_page_break(auto=True, margin=15)\n",
    "    \n",
    "    agregar_portada(pdf)\n",
    "\n",
    "    # Configuración de las imágenes\n",
    "    imagen_width = 80\n",
    "    imagen_height = 60\n",
    "    margen_horizontal = 10\n",
    "    margen_vertical = 10\n",
    "    contador = 0\n",
    "    imagenes_por_pagina = 6\n",
    "\n",
    "    # Obtener la lista de archivos de imagen en la carpeta\n",
    "    ruta = os.path.join(subdirectorio, f\"{carrera}/*.png\")\n",
    "    imagenes = natsorted(glob.glob(ruta)) \n",
    "\n",
    "    for i, imagen in enumerate(imagenes):\n",
    "        if contador % imagenes_por_pagina == 0:\n",
    "            pdf.add_page()\n",
    "\n",
    "        if contador % 2 == 0:\n",
    "            pdf.ln(margen_vertical)\n",
    "\n",
    "        x = margen_horizontal + (contador % 2) * (imagen_width + margen_horizontal)\n",
    "        y = pdf.get_y() + 10  # Ajusta la coordenada Y para que esté debajo de la portada\n",
    "\n",
    "        pdf.image(imagen, x, y, imagen_width, imagen_height)\n",
    "        pdf.cell(imagen_width, 10, ln=False)\n",
    "\n",
    "        if contador % 2 == 1:\n",
    "            pdf.ln(imagen_height + margen_vertical)\n",
    "\n",
    "        contador += 1\n",
    "        \n",
    "    nombre_archivo = os.path.join(ruta_base, f\"reporte_{carrera.replace(' ', '_')}.pdf\")\n",
    "    pdf.output(nombre_archivo)"
   ]
  },
  {
   "cell_type": "code",
   "execution_count": 77,
   "id": "2323f6be",
   "metadata": {},
   "outputs": [],
   "source": [
    "# Ruta de la imagen de portada\n",
    "portada_directory = 'portadas'"
   ]
  },
  {
   "cell_type": "markdown",
   "id": "d3045b95",
   "metadata": {},
   "source": [
    "## Generar informes\n",
    "\n",
    "Se puede generar utilizando la función \"generar_reporte\" y ambos chunks deben correrse para crear los reportes tanto por carrera o el general por sede"
   ]
  },
  {
   "cell_type": "code",
   "execution_count": 79,
   "id": "43aba9bf",
   "metadata": {},
   "outputs": [],
   "source": [
    "# Generador informes por Carrera\n",
    "for nombre in os.listdir('carreras'):\n",
    "    nombre_carrera = capit(nombre.lower())\n",
    "    generar_reporte(nombre_carrera, 'reportes', 'carreras')"
   ]
  },
  {
   "cell_type": "code",
   "execution_count": 80,
   "id": "f31026d0",
   "metadata": {},
   "outputs": [],
   "source": [
    "# Generador informes por sede\n",
    "for nombre in os.listdir('sede'):\n",
    "    nombre_carrera = capit(nombre.lower())\n",
    "    generar_reporte(nombre_carrera, 'reportes_sede', 'sede')"
   ]
  },
  {
   "cell_type": "code",
   "execution_count": null,
   "id": "4186c5ca",
   "metadata": {},
   "outputs": [],
   "source": []
  }
 ],
 "metadata": {
  "kernelspec": {
   "display_name": "Python 3 (ipykernel)",
   "language": "python",
   "name": "python3"
  },
  "language_info": {
   "codemirror_mode": {
    "name": "ipython",
    "version": 3
   },
   "file_extension": ".py",
   "mimetype": "text/x-python",
   "name": "python",
   "nbconvert_exporter": "python",
   "pygments_lexer": "ipython3",
   "version": "3.9.12"
  }
 },
 "nbformat": 4,
 "nbformat_minor": 5
}
