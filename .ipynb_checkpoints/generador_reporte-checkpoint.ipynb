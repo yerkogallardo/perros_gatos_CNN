{
 "cells": [
  {
   "cell_type": "code",
   "execution_count": 29,
   "id": "27267ad5",
   "metadata": {},
   "outputs": [],
   "source": [
    "#!pip install natsort"
   ]
  },
  {
   "cell_type": "code",
   "execution_count": 44,
   "id": "b111e2bb",
   "metadata": {},
   "outputs": [],
   "source": [
    "import glob\n",
    "from fpdf import FPDF\n",
    "from natsort import natsorted\n",
    "import os\n",
    "import re"
   ]
  },
  {
   "cell_type": "code",
   "execution_count": 45,
   "id": "1533270e",
   "metadata": {},
   "outputs": [],
   "source": [
    "class PDF(FPDF):\n",
    "    def __init__(self, carrera, portada_path):\n",
    "        super().__init__()\n",
    "        self.carrera = carrera\n",
    "        self.portada_path = portada_path\n",
    "\n",
    "    def header(self):\n",
    "        # Configuración del encabezado\n",
    "        self.set_font(\"Arial\", \"B\", 12)\n",
    "        self.cell(0, 10, \"Encuesta de Caracterización 2023 - \" + self.carrera, 0, 1, \"C\")\n",
    "\n",
    "    def footer(self):\n",
    "        # Configuración del pie de página\n",
    "        self.set_y(-15)\n",
    "        self.set_font(\"Arial\", \"I\", 8)\n",
    "        self.cell(0, 10, f\"Página {self.page_no()}\", 0, 0, \"C\")\n",
    "        \n",
    "    def add_portada(self):\n",
    "        self.add_page()\n",
    "        self.image(self.portada_path, x=0, y=0, w=self.w, h=self.h)"
   ]
  },
  {
   "cell_type": "code",
   "execution_count": 50,
   "id": "3e01eb4c",
   "metadata": {},
   "outputs": [],
   "source": [
    "def generar_reporte(carrera):\n",
    "    pdf = PDF(carrera)\n",
    "    pdf.set_auto_page_break(auto=True, margin=15)\n",
    "    pdf.add_page()\n",
    "\n",
    "    # Configuración de las imágenes\n",
    "    imagen_width = 80\n",
    "    imagen_height = 60\n",
    "    margen_horizontal = 10\n",
    "    margen_vertical = 10\n",
    "\n",
    "    contador = 0\n",
    "    imagenes_por_pagina = 6\n",
    "\n",
    "    # Obtener la lista de archivos de imagen en la carpeta\n",
    "    #ruta = f\"carreras/{carrera}/*.png\"\n",
    "    ruta = f\"sede/{carrera}/*.png\"\n",
    "    imagenes = natsorted(glob.glob(ruta)) \n",
    "\n",
    "    for i, imagen in enumerate(imagenes):\n",
    "        if i > 0 and i % imagenes_por_pagina == 0:\n",
    "            pdf.add_page()\n",
    "            contador = 0\n",
    "\n",
    "        if contador % 2 == 0:\n",
    "            pdf.ln(margen_vertical)\n",
    "\n",
    "        x = margen_horizontal + (contador % 2) * (imagen_width + margen_horizontal)\n",
    "        y = pdf.get_y()\n",
    "\n",
    "        pdf.image(imagen, x, y, imagen_width, imagen_height)\n",
    "        pdf.cell(imagen_width, 10, ln=False)\n",
    "\n",
    "        if contador % 2 == 1:\n",
    "            pdf.ln(imagen_height + margen_vertical)\n",
    "\n",
    "        contador += 1\n",
    "\n",
    "    #nombre_archivo = f\"reportes/reporte_{carrera.replace(' ', '_')}.pdf\"\n",
    "    nombre_archivo = f\"reportes_sede/reporte_{carrera.replace(' ', '_')}.pdf\"\n",
    "    pdf.output(nombre_archivo)"
   ]
  },
  {
   "cell_type": "code",
   "execution_count": 51,
   "id": "7c76878b",
   "metadata": {},
   "outputs": [],
   "source": [
    "def capit(name):\n",
    "    frase_capitalizada = re.sub(r\"\\b(?!en)\\w\", lambda m: m.group().capitalize(), name)\n",
    "    return frase_capitalizada"
   ]
  },
  {
   "cell_type": "code",
   "execution_count": 48,
   "id": "43aba9bf",
   "metadata": {},
   "outputs": [],
   "source": [
    "for nombre in os.listdir('carreras'):\n",
    "    nombre_carrera = capit(nombre.lower())\n",
    "    generar_reporte(nombre_carrera)"
   ]
  },
  {
   "cell_type": "code",
   "execution_count": 52,
   "id": "f31026d0",
   "metadata": {},
   "outputs": [],
   "source": [
    "for nombre in os.listdir('sede'):\n",
    "    nombre_carrera = capit(nombre.lower())\n",
    "    generar_reporte(nombre_carrera)"
   ]
  },
  {
   "cell_type": "code",
   "execution_count": null,
   "id": "4186c5ca",
   "metadata": {},
   "outputs": [],
   "source": []
  }
 ],
 "metadata": {
  "kernelspec": {
   "display_name": "Python 3 (ipykernel)",
   "language": "python",
   "name": "python3"
  },
  "language_info": {
   "codemirror_mode": {
    "name": "ipython",
    "version": 3
   },
   "file_extension": ".py",
   "mimetype": "text/x-python",
   "name": "python",
   "nbconvert_exporter": "python",
   "pygments_lexer": "ipython3",
   "version": "3.9.12"
  }
 },
 "nbformat": 4,
 "nbformat_minor": 5
}
