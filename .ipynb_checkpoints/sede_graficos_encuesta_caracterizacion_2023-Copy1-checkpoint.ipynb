{
 "cells": [
  {
   "cell_type": "markdown",
   "id": "559afc5d",
   "metadata": {},
   "source": [
    "# Notebook generación gráficos por sede\n",
    "\n",
    "El presente notebook toma el archivo pre-procesado pkl creado por el notebook de pre-procesamiento de datos, este el igual que el de sede realiza el procesamiento de los datos para crear los gráficos, en este caso genera los gráficos y los guarda en imagenes por carrera.\n",
    "\n",
    "Estos archivos quedan guardados en el directorio \"sede\""
   ]
  },
  {
   "cell_type": "code",
   "execution_count": 1,
   "id": "410749be",
   "metadata": {},
   "outputs": [
    {
     "name": "stderr",
     "output_type": "stream",
     "text": [
      "[nltk_data] Downloading package stopwords to\n",
      "[nltk_data]     C:\\Users\\yerko.gallardo\\AppData\\Roaming\\nltk_data...\n",
      "[nltk_data]   Package stopwords is already up-to-date!\n",
      "[nltk_data] Downloading package punkt to\n",
      "[nltk_data]     C:\\Users\\yerko.gallardo\\AppData\\Roaming\\nltk_data...\n",
      "[nltk_data]   Package punkt is already up-to-date!\n"
     ]
    }
   ],
   "source": [
    "import pandas as pd\n",
    "import numpy as np\n",
    "import matplotlib.pyplot as plt\n",
    "import seaborn as sns\n",
    "import os\n",
    "\n",
    "from wordcloud import WordCloud, STOPWORDS\n",
    "from stop_words import get_stop_words\n",
    "from unidecode import unidecode\n",
    "\n",
    "#Librerías necesarias para la limpieza de datos\n",
    "import string\n",
    "import re\n",
    "import nltk\n",
    "nltk.download('stopwords')\n",
    "nltk.download('punkt')\n",
    "from nltk.corpus import stopwords\n",
    "from nltk.tokenize import word_tokenize\n",
    "from nltk.stem import PorterStemmer\n",
    "from nltk.corpus import stopwords\n",
    "\n",
    "import textwrap"
   ]
  },
  {
   "cell_type": "code",
   "execution_count": 2,
   "id": "c5152e4a",
   "metadata": {},
   "outputs": [],
   "source": [
    "df = pd.read_pickle('df_procesado.pkl')"
   ]
  },
  {
   "cell_type": "markdown",
   "id": "40aca757",
   "metadata": {},
   "source": [
    "## Un preprocesado para separar carreras y sedes\n",
    "\n",
    "Añadido 07-07-23\n",
    "\n",
    "Agregar posteriormente al notebook de procesado "
   ]
  },
  {
   "cell_type": "code",
   "execution_count": 3,
   "id": "e77dfeee",
   "metadata": {},
   "outputs": [],
   "source": [
    "df.drop(df[df['sede'] == 'No informa'].index, inplace=True)"
   ]
  },
  {
   "cell_type": "code",
   "execution_count": 4,
   "id": "2fe54ed8",
   "metadata": {},
   "outputs": [],
   "source": [
    "df['sede'] = df['sede'].str.replace('División', '').str.strip()"
   ]
  },
  {
   "cell_type": "code",
   "execution_count": 36,
   "id": "5679959e",
   "metadata": {},
   "outputs": [],
   "source": [
    "##df['carrera_sede'] = df['plan_estudio_descripcion'] + ' - ' + df['sede']"
   ]
  },
  {
   "cell_type": "code",
   "execution_count": null,
   "id": "69a39e31",
   "metadata": {},
   "outputs": [],
   "source": [
    "##############"
   ]
  },
  {
   "cell_type": "code",
   "execution_count": 5,
   "id": "aca30fd0",
   "metadata": {},
   "outputs": [],
   "source": [
    "## Diccionario de Definiciones de variables\n",
    "def_dic = {\n",
    "    'declaracion_uso_datos': 'Declaro que los datos suministrados son verdaderos y autorizo a la Universidad Mayor a tratar los mismos en los términos de la ley Nº 19.628, con la finalidad de obtener el perfil socioeducativo y...',\n",
    "    't_desde_egreso': 'Desde que egresaste de la Enseñanza Media, ¿Cuánto tiempo trascurrió para que ingresaras a la Educación Superior?',\n",
    "    'razon_ingreso_tardio_ed_mayor':\"¿Puedes indicarnos a qué factor atribuyes principalmente que tu ingreso a la Educación Superior no fuera antes?\",\n",
    "    'estudia_antes_edsup':'¿Estudiaste en alguna Institución de Educación Superior antes de ingresar a la Universidad Mayor?',\n",
    "    'finalizo_est_antes_edsup':'Si tu respuesta anterior fue afirmativa, indícanos si finalizaste tus estudios',\n",
    "    'estado_civil':'¿Cuál es tu estado civil?',\n",
    "    'tiene_hijos':\"¿Tienes hijos/as?\",\n",
    "    'red_apoyo':'Indícanos si cuentas con una red de apoyo para sus cuidados.',\n",
    "    'quien_red_apoyo':'En caso de contar con una red de apoyo, indícanos cual identificarías como principal.',\n",
    "    'etnia':\"¿A qué etnia o cultura originaria perteneces?\",\n",
    "    'genero_se_identifica':'¿Con cuál género te identificas?',\n",
    "    'orientacion_sexual':\"¿Cuál es tu orientación sexual?\",\n",
    "    'sistema_salud':'¿A qué sistema de salud estás afiliado?',\n",
    "    'sis_salud_afiliado':'¿A qué sistema de salud estás afiliado?',\n",
    "    'declara_discapacidad': '¿Deseas declarar algún tipo de discapacidad o condición específica que requiera apoyos, para facilitar tu participación académica?',\n",
    "    'situacion_discapacidad': 'Declara algún tipo de discapacidad o condición específica que requiera apoyos para facilitar su participación académica.',\n",
    "    'acreditacion_discapacidad':\"En caso de que hayas referido alguna discapacidad, indícanos de qué forma está acreditada.\",\n",
    "    'condicion_dificultad_clases': '¿Deseas declarar alguna enfermedad o condición específica que pueda afectar tu asistencia a clases, el desarrollo de clases online o a distancia, o bien, tu rendimiento académico?',\n",
    "    'comentario_dificultad':'Declara enfermedad o condición especifica que puede afectar a la asistencia a clases, desarrollo online o a distancio o el rendimiento académico',\n",
    "    'cuidados_dentro_campus':\"Para contextos de clases presenciales. ¿Deseas declarar alguna condición o enfermedad que requiera cuidados dentro del Campus o sala de clases?\",\n",
    "    'comentar_situacion_cuidados_campus':'Declara alguna condición o enfermedad que requiere cuidados dentro del Campus o en la sala de clases.',\n",
    "    'contacto_emergencia': 'En caso de que se presente una emergencia o accidente que afecte tu salud física y/o mental, ¿Deseas registrar el contacto de alguna persona de referencia para que informemos? De ser así, Indica n...',\n",
    "    'estudios_familiar': '¿Alguno de los siguientes integrantes de tu familia se tituló de alguna carrera de la Educación Superior ya sea en alguna Universidad, Instituto Profesional o Centro de Formación Técnica?',\n",
    "    'tramo_registro_social': 'Según el Registro Social de Hogares, ¿Cuál es tu tramo de calificación socioeconómica?',\n",
    "    'cuantos_convive_2023': 'Incluyéndote ¿Con cuántas personas convivirás durante el año académico 2023?',\n",
    "    'situacion_laboral_jefe_hogar': '¿Cuál es la situación laboral del/la jefe(a) de tu hogar?',\n",
    "    'situacion_laboral': \"¿Actualmente trabajas?\",\n",
    "    'horas_semanales_laboral': \"En caso de que la respuesta anterior sea afirmativa, ¿Cuántas horas semanales dedicas a esta actividad?\",\n",
    "    'dependencia_grupo_familiar': 'Hay algún integrante de tu grupo familiar que dependa de otro para realizar sus actividades cotidianas por condiciones de salud?',\n",
    "    'dependientes_de_estudiante': '¿Existen personas que dependan de ti?',\n",
    "    'quien_depende_estudiante': \"Indícanos sobre quien depende de ti, a qué tipo de persona(s) corresponde.\",\n",
    "    'horas_cuidado_estudiante': \"Respecto al cuidado que otorgas a otro(s), indícanos cuántas horas semanales dedicas a esta actividad.\",\n",
    "    'lugar_estudio_alumno': '¿En qué lugar desarrollarás principalmente tus actividades de estudio?',\n",
    "    'acceso_medio_digital': 'En lo referente al uso de tecnologías ¿Posees acceso a algún medio digital?',\n",
    "    'uso_exclusivo_medio_digital': 'Indícanos si el medio tecnológico que posees es de tu uso exclusivo.',\n",
    "    'acceso_internet_alumno': 'Respecto a la conectividad, ¿Cuentas con acceso a internet en tu hogar o residencia?',\n",
    "    'factores_dificultad_estudio': 'Al iniciar tu período académico universitario, ¿Crees que alguno de estos factores podría dificultar tu aprendizaje en asignaturas que se dicten de manera online o a distancia?',\n",
    "    'dificultad_trayecto': '¿Durante tu trayectoria académica has presentado alguna barrera que ha dificultado tu proceso aprendizaje?',\n",
    "    'situacion_dificultad': 'Comenta que ha presentado alguna barrera que ha dificultado el proceso de aprendizaje',\n",
    "    'mayores_habilidades': 'Según tu percepción ¿En qué áreas del aprendizaje sientes mayor habilidad en este momento? Puedes seleccionar más de una alternativa',\n",
    "    'area_aprendizaje_quiere_potenciar': '¿Qué área del aprendizaje quisieras potenciar en tu proceso académico? Puedes seleccionar más de una alternativa',\n",
    "    'apoyo_pedadogico_requiere': '¿Crees que alguno de estos apoyos pedagógicos pudiera facilitar tu aprendizaje?',\n",
    "    'requiere_pares_mentores': 'Considerando que la Universidad cuenta con el Programa “Pares Mentores”, el cual tiene como objetivo que un alumno de primer año se adapte a la vida universitaria, creando lazos con un estudiante ...',\n",
    "    'tiempo_traslado': '¿Cuánto tiempo tardas en trasladarte desde tu lugar de residencia a la Universidad? ',\n",
    "    'medio_transporte': '¿Qué medio de transporte utilizas para desplazarte a la Universidad?',\n",
    "    'actividades_de_interes': 'Señala cuál(es) de estas actividades es(son) de tu interés: Puedes seleccionar más de una opción',\n",
    "    'preferencias_estudio': 'Respecto a tus preferencias, habitualmente:',\n",
    "    'practica_deporte_hobbie': '¿Prácticas algún deporte o hobby?',\n",
    "    'indica_deporte_hobbie': 'Deportes o hobbies declarado por los alumnos.',\n",
    "    'preferencia_act_extracurricular': 'Indícanos cuál de estas actividades sería de tu interés. Puedes seleccionar más de una opción.',\n",
    "    'genero_identifica_mfo': '¿Con cuál género te identificas?'\n",
    "}"
   ]
  },
  {
   "cell_type": "code",
   "execution_count": 6,
   "id": "e01b42ca",
   "metadata": {},
   "outputs": [],
   "source": [
    "## Diccionario de Definiciones y número de pregunta\n",
    "num_dic = {\n",
    "    '1': 'Declaro que los datos suministrados son verdaderos y autorizo a la Universidad Mayor a tratar los mismos en los términos de la ley Nº 19.628, con la finalidad de obtener el perfil socioeducativo y...',\n",
    "    '2': 'Desde que egresaste de la Enseñanza Media, ¿Cuánto tiempo trascurrió para que ingresaras a la Educación Superior?',\n",
    "    '3':\"¿Puedes indicarnos a qué factor atribuyes principalmente que tu ingreso a la Educación Superior no fuera antes?\",\n",
    "    '4':'¿Estudiaste en alguna Institución de Educación Superior antes de ingresar a la Universidad Mayor?',\n",
    "    '5':'Si tu respuesta anterior fue afirmativa, indícanos si finalizaste tus estudios',\n",
    "    '6':'¿Cuál es tu estado civil?',\n",
    "    '7':\"¿Tienes hijos/as?\",\n",
    "    '8':'Indícanos si cuentas con una red de apoyo para sus cuidados.',\n",
    "    '9':'En caso de contar con una red de apoyo, indícanos cual identificarías como principal.',\n",
    "    '10':\"¿A qué etnia o cultura originaria perteneces?\",\n",
    "    '11':'¿Con cuál género te identificas?',\n",
    "    '12':\"¿Cuál es tu orientación sexual?\",\n",
    "    '13':'¿A qué sistema de salud estás afiliado?',\n",
    "    '13':'¿A qué sistema de salud estás afiliado?',\n",
    "    '14': '¿Deseas declarar algún tipo de discapacidad o condición específica que requiera apoyos, para facilitar tu participación académica?',\n",
    "    '15': 'Declara algún tipo de discapacidad o condición específica que requiera apoyos para facilitar su participación académica.',\n",
    "    '16':\"En caso de que hayas referido alguna discapacidad, indícanos de qué forma está acreditada.\",\n",
    "    '17': '¿Deseas declarar alguna enfermedad o condición específica que pueda afectar tu asistencia a clases, el desarrollo de clases online o a distancia, o bien, tu rendimiento académico?',\n",
    "    '18':'Declara enfermedad o condición especifica que puede afectar a la asistencia a clases, desarrollo online o a distancio o el rendimiento académico',\n",
    "    '19':\"Para contextos de clases presenciales. ¿Deseas declarar alguna condición o enfermedad que requiera cuidados dentro del Campus o sala de clases?\",\n",
    "    '20':'Declara alguna condición o enfermedad que requiere cuidados dentro del Campus o en la sala de clases.',\n",
    "    '21': 'En caso de que se presente una emergencia o accidente que afecte tu salud física y/o mental, ¿Deseas registrar el contacto de alguna persona de referencia para que informemos? De ser así, Indica n...',\n",
    "    '22': '¿Alguno de los siguientes integrantes de tu familia se tituló de alguna carrera de la Educación Superior ya sea en alguna Universidad, Instituto Profesional o Centro de Formación Técnica?',\n",
    "    '23': 'Según el Registro Social de Hogares, ¿Cuál es tu tramo de calificación socioeconómica?',\n",
    "    '24': 'Incluyéndote ¿Con cuántas personas convivirás durante el año académico 2023?',\n",
    "    '25': '¿Cuál es la situación laboral del/la jefe(a) de tu hogar?',\n",
    "    '26': \"¿Actualmente trabajas?\",\n",
    "    '27': \"En caso de que la respuesta anterior sea afirmativa, ¿Cuántas horas semanales dedicas a esta actividad?\",\n",
    "    '28': 'Hay algún integrante de tu grupo familiar que dependa de otro para realizar sus actividades cotidianas por condiciones de salud?',\n",
    "    '29': '¿Existen personas que dependan de ti?',\n",
    "    '30': \"Indícanos sobre quien depende de ti, a qué tipo de persona(s) corresponde.\",\n",
    "    '31': \"Respecto al cuidado que otorgas a otro(s), indícanos cuántas horas semanales dedicas a esta actividad.\",\n",
    "    '32': '¿En qué lugar desarrollarás principalmente tus actividades de estudio?',\n",
    "    '33': 'En lo referente al uso de tecnologías ¿Posees acceso a algún medio digital?',\n",
    "    '34': 'Indícanos si el medio tecnológico que posees es de tu uso exclusivo.',\n",
    "    '35': 'Respecto a la conectividad, ¿Cuentas con acceso a internet en tu hogar o residencia?',\n",
    "    '36': 'Al iniciar tu período académico universitario, ¿Crees que alguno de estos factores podría dificultar tu aprendizaje en asignaturas que se dicten de manera online o a distancia?',\n",
    "    '37': '¿Durante tu trayectoria académica has presentado alguna barrera que ha dificultado tu proceso aprendizaje?',\n",
    "    '38': 'Comenta que ha presentado alguna barrera que ha dificultado el proceso de aprendizaje',\n",
    "    '39': 'Según tu percepción ¿En qué áreas del aprendizaje sientes mayor habilidad en este momento? Puedes seleccionar más de una alternativa',\n",
    "    '40': '¿Qué área del aprendizaje quisieras potenciar en tu proceso académico? Puedes seleccionar más de una alternativa',\n",
    "    '41': '¿Crees que alguno de estos apoyos pedagógicos pudiera facilitar tu aprendizaje?',\n",
    "    '42': 'Considerando que la Universidad cuenta con el Programa “Pares Mentores”, el cual tiene como objetivo que un alumno de primer año se adapte a la vida universitaria, creando lazos con un estudiante ...',\n",
    "    '43': '¿Cuánto tiempo tardas en trasladarte desde tu lugar de residencia a la Universidad? ',\n",
    "    '44': '¿Qué medio de transporte utilizas para desplazarte a la Universidad?',\n",
    "    '45': 'Señala cuál(es) de estas actividades es(son) de tu interés: Puedes seleccionar más de una opción',\n",
    "    '46': 'Respecto a tus preferencias, habitualmente:',\n",
    "    '47': '¿Prácticas algún deporte o hobby?',\n",
    "    '48': 'Deportes o hobbies declarado por los alumnos.',\n",
    "    '49': 'Indícanos cuál de estas actividades sería de tu interés. Puedes seleccionar más de una opción.',\n",
    "    '11': '¿Con cuál género te identificas?'\n",
    "}"
   ]
  },
  {
   "cell_type": "code",
   "execution_count": 7,
   "id": "02b700c9",
   "metadata": {},
   "outputs": [],
   "source": [
    "## Lista de variables que se realizará Wordcloud\n",
    "wcloud = ['quien_red_apoyo', 'situacion_discapacidad', 'comentario_dificultad', 'comentar_situacion_cuidados_campus',\n",
    "          'dependientes_de_estudiante', 'quien_depende_estudiante', 'factores_dificultad_estudio', 'situacion_dificultad',\n",
    "          'indica_deporte_hobbie', 'genero_se_identifica', 'razon_ingreso_tardio_ed_mayor']"
   ]
  },
  {
   "cell_type": "code",
   "execution_count": 8,
   "id": "7882d9f8",
   "metadata": {},
   "outputs": [
    {
     "name": "stderr",
     "output_type": "stream",
     "text": [
      "C:\\Users\\yerko.gallardo\\AppData\\Local\\Temp\\ipykernel_6720\\832272366.py:1: SettingWithCopyWarning: \n",
      "A value is trying to be set on a copy of a slice from a DataFrame\n",
      "\n",
      "See the caveats in the documentation: https://pandas.pydata.org/pandas-docs/stable/user_guide/indexing.html#returning-a-view-versus-a-copy\n",
      "  df[wcloud].fillna('', inplace=True)\n"
     ]
    }
   ],
   "source": [
    "df[wcloud].fillna('', inplace=True)"
   ]
  },
  {
   "cell_type": "code",
   "execution_count": 9,
   "id": "96003d35",
   "metadata": {
    "scrolled": false
   },
   "outputs": [
    {
     "name": "stderr",
     "output_type": "stream",
     "text": [
      "[nltk_data] Downloading package stopwords to\n",
      "[nltk_data]     C:\\Users\\yerko.gallardo\\AppData\\Roaming\\nltk_data...\n",
      "[nltk_data]   Package stopwords is already up-to-date!\n"
     ]
    }
   ],
   "source": [
    "from nltk.corpus import stopwords\n",
    "stop_words_esp = set(stopwords.words('spanish'))\n",
    "\n",
    "\n",
    "import nltk\n",
    "nltk.download('stopwords')\n",
    "\n",
    "stop_words_esp = get_stop_words('spanish')\n",
    "stop_words_esp += [\"\\u200b\", \"\\xa0\", \"para\", \"como\", \"puede\",\"cómo\", \"hacer\", \"forma\", \"parte\", \"hace\", \"además\", \"según\", \"pueden\", \"ser\", 'apoyo']"
   ]
  },
  {
   "cell_type": "code",
   "execution_count": 10,
   "id": "8755135c",
   "metadata": {},
   "outputs": [],
   "source": [
    "## Función de procesado de palabras wordcloud\n",
    "def text_preproc(df, column):\n",
    "    df['text'] = df[column].fillna('')\n",
    "    df['text'] = df['text'].str.lower()\n",
    "    # Remove all punctuations, numbers, and special characters\n",
    "    df['text'] = df['text'].str.replace('[^\\w\\s]', '', regex=False)\n",
    "    # Remove stop words\n",
    "    #stop_words_esp = set(stopwords.words('spanish'))\n",
    "    df['text'] = df['text'].apply(lambda x: ' '.join([word for word in word_tokenize(x) if word.lower() not in stop_words_esp]))\n",
    "    # Tokenize the text data\n",
    "    df['text'] = df['text'].apply(word_tokenize)\n",
    "    # Convert words with accents to words without accents\n",
    "    df['text'] = df['text'].apply(lambda x: [unidecode(word) for word in x])\n",
    "    # Text with all the words\n",
    "    words = ' '.join(df['text'].explode().replace(np.nan, '', regex=True))\n",
    "    return words"
   ]
  },
  {
   "cell_type": "code",
   "execution_count": 11,
   "id": "b81ca558",
   "metadata": {},
   "outputs": [],
   "source": [
    "def wrap_labels(ax, width, break_long_words=False):\n",
    "    labels = []\n",
    "    for label in ax.get_yticklabels():\n",
    "        text = label.get_text()\n",
    "        labels.append(textwrap.fill(text, width=width, break_long_words=break_long_words))\n",
    "    ax.set_yticklabels(labels)"
   ]
  },
  {
   "cell_type": "code",
   "execution_count": 12,
   "id": "6d3674b7",
   "metadata": {},
   "outputs": [],
   "source": [
    "# Asignar los valores de la nueva columna genero_identifica_mfo\n",
    "df['genero_identifica_mfo'] = np.where(df['genero_se_identifica'].isin(['Femenino', 'Masculino']), df['genero_se_identifica'], 'Otro')"
   ]
  },
  {
   "cell_type": "code",
   "execution_count": 13,
   "id": "ed2a443f",
   "metadata": {},
   "outputs": [],
   "source": [
    "graficar = ['declaracion_uso_datos', 't_desde_egreso', 'estudia_antes_edsup', 'finalizo_est_antes_edsup', 'estado_civil',\n",
    "            'tiene_hijos', 'red_apoyo', 'etnia', 'declara_discapacidad', 'cuidados_dentro_campus', 'tramo_registro_social',\n",
    "            'cuantos_convive_2023', 'situacion_laboral', 'horas_semanales_laboral', 'dependencia_grupo_familiar', \n",
    "            'horas_cuidado_estudiante', 'acceso_medio_digital', 'uso_exclusivo_medio_digital', 'acceso_internet_alumno',\n",
    "            'dificultad_trayecto', 'requiere_pares_mentores', 'tiempo_traslado', 'medio_transporte', 'practica_deporte_hobbie', \n",
    "            'orientacion_sexual','condicion_dificultad_clases', 'situacion_laboral_jefe_hogar', 'lugar_estudio_alumno', 'genero_identifica_mfo']"
   ]
  },
  {
   "cell_type": "code",
   "execution_count": 14,
   "id": "9c0b0321",
   "metadata": {},
   "outputs": [],
   "source": [
    "nuevo_df = pd.DataFrame(df, columns=graficar)\n",
    "# Seleccionar todas las columnas con tipo de dato \"object\"\n",
    "columnas_object = nuevo_df.select_dtypes(include=['object']).columns\n",
    "# Cambiar el tipo de dato de las columnas seleccionadas a \"categorical\"\n",
    "nuevo_df[columnas_object] = nuevo_df[columnas_object].astype('category')"
   ]
  },
  {
   "cell_type": "code",
   "execution_count": 15,
   "id": "e329cd1f",
   "metadata": {},
   "outputs": [],
   "source": [
    "def graficar_mod(df, column):\n",
    "    # Obtener los valores y sus frecuencias, ordenados de forma descendente\n",
    "    value_counts = df[column].value_counts().sort_values(ascending=False)\n",
    "    # Crear un DataFrame ordenado con los valores y sus frecuencias\n",
    "    data = pd.DataFrame({column: value_counts.index, 'Cantidad de estudiantes': value_counts.values})\n",
    "    # Crear el gráfico de barras utilizando Seaborn\n",
    "    fig, ax = plt.subplots(figsize=(8,6))\n",
    "    ax = sns.barplot(x='Cantidad de estudiantes', y=column, data=data, order=value_counts.index)\n",
    "    wrap_labels(ax, 60)\n",
    "    # Configurar el título y las etiquetas de los ejes\n",
    "    titulo = def_dic[column] if column in def_dic else None\n",
    "    plt.title('Gráfico de ' + column)\n",
    "    plt.xlabel('Cantidad de estudiantes')\n",
    "    plt.ylabel(column)\n",
    "    ax.set_xlim(right=ax.get_xlim()[1] * 1.1)\n",
    "    descripcion_recortada = '\\n'.join(textwrap.wrap(titulo, width=60))\n",
    "    plt.text(0.5, -0.20, descripcion_recortada, ha='center', va='center', transform=ax.transAxes)\n",
    "    # Agregar los valores en las barras\n",
    "    for p in ax.patches:\n",
    "        width = p.get_width()\n",
    "        height = p.get_height()\n",
    "        x, y = p.get_xy() \n",
    "        value = int(width)\n",
    "        ax.annotate(f'{value}', (x + width, y + height/2), ha='left', va='center')\n",
    "    nombre_archivo = f\"gra_{column}.png\" if titulo else \"wordcloud.png\"\n",
    "    # Guardar el gráfico en una imagen\n",
    "    plt.savefig(os.path.join(ruta, nombre_archivo))\n",
    "    plt.close()"
   ]
  },
  {
   "cell_type": "markdown",
   "id": "f887ee0c",
   "metadata": {},
   "source": [
    "# Preguntas con respuestas múltiples\n",
    "\n",
    "Se crea un diccionario con los nombres de las variables que se usarán para construir los gráficos, con estas variables viene el valor de la cantidad de respuestas originales.\n",
    "\n",
    "La variable pasa por un ciclo for que primero convierte los valores a dummies para poder contar las coincidencias, se tienen en cuenta las respuestas originales y en el conteo las que sobrepasan de este valor se consideran como otros."
   ]
  },
  {
   "cell_type": "code",
   "execution_count": 16,
   "id": "3d1117ba",
   "metadata": {},
   "outputs": [],
   "source": [
    "## Esta función cuenta realiza la suma de los valores dummies, los junta en un nuevo dataset y los ordena\n",
    "def rep_otros(dataset, num): \n",
    "    sum_values = dataset.sum().sort_values(ascending=False)\n",
    "    sorted_dataset = dataset[sum_values.index]\n",
    "    originales = sorted_dataset.iloc[:, :num]\n",
    "    columnas_a_contar = sorted_dataset.iloc[:, num:]\n",
    "    suma_total_coincidencias = columnas_a_contar.sum().sum()\n",
    "    nueva_fila = pd.DataFrame({'Otros': [suma_total_coincidencias]})\n",
    "    multi_un = pd.concat([originales, nueva_fila], ignore_index=True).fillna(0)\n",
    "    sum_values = multi_un.sum().sort_values(ascending=False)\n",
    "    sorted_dataset = multi_un[sum_values.index]\n",
    "    multi_sorted = sorted_dataset.copy()\n",
    "    return multi_sorted"
   ]
  },
  {
   "cell_type": "code",
   "execution_count": 17,
   "id": "5a007ec4",
   "metadata": {},
   "outputs": [],
   "source": [
    "## Esta función toma lo que entrega la función rep_otros y crea los gráficos de acuerdo a lo ingresado\n",
    "def gra_multi_resp(multi, op):\n",
    "    multi_sor = rep_otros(multi, op)\n",
    "    column = 'preferencia_act_extracurricular'\n",
    "    fig, ax = plt.subplots(figsize=(8,6))\n",
    "    sns.barplot(x=multi_sor.sum().values, y=multi_sor.columns, ax=ax, order=multi_sor.sum().sort_values(ascending=False).index)\n",
    "    plt.yticks(fontsize=8)\n",
    "    wrap_labels(ax, 40)\n",
    "    titulo = def_dic[column] if column in def_dic else None\n",
    "    plt.title('Gráfico de ' + column)\n",
    "    plt.xlabel('Cantidad de estudiantes')\n",
    "    plt.ylabel(column)\n",
    "    ax.set_xlim(right=ax.get_xlim()[1] * 1.1)\n",
    "    descripcion_recortada = '\\n'.join(textwrap.wrap(titulo, width=60))\n",
    "    plt.text(0.5, -0.20, descripcion_recortada, ha='center', va='center', transform=ax.transAxes)\n",
    "    # Agregar los valores en las barras\n",
    "    for p in ax.patches:\n",
    "        width = p.get_width()\n",
    "        height = p.get_height()\n",
    "        x, y = p.get_xy() \n",
    "        value = int(width)\n",
    "        ax.annotate(f'{value}', (x + width, y + height/2), ha='left', va='center')\n",
    "    nombre_archivo = f\"opmulti_{multi}.png\" if titulo else \"wordcloud.png\"\n",
    "    # Guardar el gráfico en una imagen\n",
    "    plt.savefig(os.path.join(ruta, nombre_archivo))\n",
    "    plt.close()"
   ]
  },
  {
   "cell_type": "code",
   "execution_count": 18,
   "id": "c1666b93",
   "metadata": {},
   "outputs": [],
   "source": [
    "## Diccionario con las variables a graficar y con la cantidad de respuestas originales\n",
    "multi_dic = {\n",
    "    'acreditacion_discapacidad': 5,\n",
    "    'estudios_familiar': 6,\n",
    "    'mayores_habilidades': 8,\n",
    "    'area_aprendizaje_quiere_potenciar': 8,\n",
    "    'apoyo_pedadogico_requiere': 5,\n",
    "    'actividades_de_interes': 8,\n",
    "    'preferencias_estudio': 6,\n",
    "    'preferencia_act_extracurricular': 4,\n",
    "}"
   ]
  },
  {
   "cell_type": "code",
   "execution_count": 19,
   "id": "d0c75764",
   "metadata": {},
   "outputs": [],
   "source": [
    "sede = df['sede'].value_counts()"
   ]
  },
  {
   "cell_type": "code",
   "execution_count": 20,
   "id": "87fdc33a",
   "metadata": {},
   "outputs": [],
   "source": [
    "directorio_base = \"sede\""
   ]
  },
  {
   "cell_type": "code",
   "execution_count": 21,
   "id": "33a49f9d",
   "metadata": {
    "scrolled": false
   },
   "outputs": [
    {
     "name": "stdout",
     "output_type": "stream",
     "text": [
      "Directorio 'sede\\Santiago' creado!\n",
      "Directorio 'sede\\Temuco' creado!\n"
     ]
    }
   ],
   "source": [
    "for carr in sede.index:\n",
    "    ruta = os.path.join(directorio_base, carr)\n",
    "    if not os.path.exists(ruta):\n",
    "        os.makedirs(ruta)\n",
    "        print(f\"Directorio '{ruta}' creado!\")\n",
    "    else:\n",
    "        print(f\"Directorio '{ruta}' ya existe!\")"
   ]
  },
  {
   "cell_type": "code",
   "execution_count": 22,
   "id": "1bda7ed3",
   "metadata": {},
   "outputs": [],
   "source": [
    "def text_preproc(df, column):\n",
    "    df.loc[:, 'text'] = df[column].fillna('')\n",
    "    df.loc[:, 'text'] = df['text'].str.lower()\n",
    "    # Remove all punctuations, numbers, and special characters\n",
    "    df.loc[:, 'text'] = df['text'].str.replace('[^\\w\\s]', '', regex=False)\n",
    "    # Remove stop words\n",
    "    df.loc[:, 'text'] = df['text'].apply(lambda x: ' '.join([word for word in word_tokenize(x) if word.lower() not in stop_words_esp]))\n",
    "    # Tokenize the text data\n",
    "    df.loc[:, 'text'] = df['text'].apply(word_tokenize)\n",
    "    # Convert words with accents to words without accents\n",
    "    df.loc[:, 'text'] = df['text'].apply(lambda x: [unidecode(word) for word in x])\n",
    "    # Text with all the words\n",
    "    words = ' '.join(df['text'].explode().replace(np.nan, '', regex=True))\n",
    "    \n",
    "    words_count = len(words.split())\n",
    "    if words_count == 0:\n",
    "        print(f\"No se encontraron palabras después del preprocesamiento para la columna '{column}'.\")\n",
    "        return None  # Return None if there are no words\n",
    "    \n",
    "    print(f\"Número de palabras después del preprocesamiento para la columna '{column}': {words_count}\")\n",
    "    return words\n"
   ]
  },
  {
   "cell_type": "code",
   "execution_count": 24,
   "id": "3a20077a",
   "metadata": {
    "scrolled": true
   },
   "outputs": [
    {
     "name": "stderr",
     "output_type": "stream",
     "text": [
      "C:\\Users\\yerko.gallardo\\AppData\\Local\\Temp\\ipykernel_6720\\554020761.py:2: SettingWithCopyWarning: \n",
      "A value is trying to be set on a copy of a slice from a DataFrame.\n",
      "Try using .loc[row_indexer,col_indexer] = value instead\n",
      "\n",
      "See the caveats in the documentation: https://pandas.pydata.org/pandas-docs/stable/user_guide/indexing.html#returning-a-view-versus-a-copy\n",
      "  df.loc[:, 'text'] = df[column].fillna('')\n",
      "C:\\Users\\yerko.gallardo\\AppData\\Local\\Temp\\ipykernel_6720\\554020761.py:3: SettingWithCopyWarning: \n",
      "A value is trying to be set on a copy of a slice from a DataFrame.\n",
      "Try using .loc[row_indexer,col_indexer] = value instead\n",
      "\n",
      "See the caveats in the documentation: https://pandas.pydata.org/pandas-docs/stable/user_guide/indexing.html#returning-a-view-versus-a-copy\n",
      "  df.loc[:, 'text'] = df['text'].str.lower()\n",
      "C:\\Users\\yerko.gallardo\\AppData\\Local\\Temp\\ipykernel_6720\\554020761.py:5: SettingWithCopyWarning: \n",
      "A value is trying to be set on a copy of a slice from a DataFrame.\n",
      "Try using .loc[row_indexer,col_indexer] = value instead\n",
      "\n",
      "See the caveats in the documentation: https://pandas.pydata.org/pandas-docs/stable/user_guide/indexing.html#returning-a-view-versus-a-copy\n",
      "  df.loc[:, 'text'] = df['text'].str.replace('[^\\w\\s]', '', regex=False)\n",
      "C:\\Users\\yerko.gallardo\\AppData\\Local\\Temp\\ipykernel_6720\\554020761.py:7: SettingWithCopyWarning: \n",
      "A value is trying to be set on a copy of a slice from a DataFrame.\n",
      "Try using .loc[row_indexer,col_indexer] = value instead\n",
      "\n",
      "See the caveats in the documentation: https://pandas.pydata.org/pandas-docs/stable/user_guide/indexing.html#returning-a-view-versus-a-copy\n",
      "  df.loc[:, 'text'] = df['text'].apply(lambda x: ' '.join([word for word in word_tokenize(x) if word.lower() not in stop_words_esp]))\n",
      "C:\\Users\\yerko.gallardo\\AppData\\Local\\Temp\\ipykernel_6720\\554020761.py:9: SettingWithCopyWarning: \n",
      "A value is trying to be set on a copy of a slice from a DataFrame.\n",
      "Try using .loc[row_indexer,col_indexer] = value instead\n",
      "\n",
      "See the caveats in the documentation: https://pandas.pydata.org/pandas-docs/stable/user_guide/indexing.html#returning-a-view-versus-a-copy\n",
      "  df.loc[:, 'text'] = df['text'].apply(word_tokenize)\n",
      "C:\\Users\\yerko.gallardo\\AppData\\Local\\Temp\\ipykernel_6720\\554020761.py:11: SettingWithCopyWarning: \n",
      "A value is trying to be set on a copy of a slice from a DataFrame.\n",
      "Try using .loc[row_indexer,col_indexer] = value instead\n",
      "\n",
      "See the caveats in the documentation: https://pandas.pydata.org/pandas-docs/stable/user_guide/indexing.html#returning-a-view-versus-a-copy\n",
      "  df.loc[:, 'text'] = df['text'].apply(lambda x: [unidecode(word) for word in x])\n"
     ]
    },
    {
     "name": "stdout",
     "output_type": "stream",
     "text": [
      "Número de palabras después del preprocesamiento para la columna 'quien_red_apoyo': 1223\n",
      "Gráfico guardado en 'sede\\Santiago/9_wordcloud_quien_red_apoyo.png'!\n",
      "Número de palabras después del preprocesamiento para la columna 'situacion_discapacidad': 995\n",
      "Gráfico guardado en 'sede\\Santiago/15_wordcloud_situacion_discapacidad.png'!\n",
      "Número de palabras después del preprocesamiento para la columna 'comentario_dificultad': 3162\n",
      "Gráfico guardado en 'sede\\Santiago/18_wordcloud_comentario_dificultad.png'!\n",
      "Número de palabras después del preprocesamiento para la columna 'comentar_situacion_cuidados_campus': 881\n",
      "Gráfico guardado en 'sede\\Santiago/20_wordcloud_comentar_situacion_cuidados_campus.png'!\n",
      "Número de palabras después del preprocesamiento para la columna 'dependientes_de_estudiante': 2197\n",
      "Gráfico guardado en 'sede\\Santiago/29_wordcloud_dependientes_de_estudiante.png'!\n",
      "Número de palabras después del preprocesamiento para la columna 'quien_depende_estudiante': 5948\n",
      "Gráfico guardado en 'sede\\Santiago/30_wordcloud_quien_depende_estudiante.png'!\n",
      "Número de palabras después del preprocesamiento para la columna 'factores_dificultad_estudio': 6763\n",
      "Gráfico guardado en 'sede\\Santiago/36_wordcloud_factores_dificultad_estudio.png'!\n",
      "Número de palabras después del preprocesamiento para la columna 'situacion_dificultad': 5518\n",
      "Gráfico guardado en 'sede\\Santiago/38_wordcloud_situacion_dificultad.png'!\n",
      "Número de palabras después del preprocesamiento para la columna 'indica_deporte_hobbie': 4215\n",
      "Gráfico guardado en 'sede\\Santiago/48_wordcloud_indica_deporte_hobbie.png'!\n",
      "Número de palabras después del preprocesamiento para la columna 'genero_se_identifica': 2973\n",
      "Gráfico guardado en 'sede\\Santiago/11_wordcloud_genero_se_identifica.png'!\n",
      "Número de palabras después del preprocesamiento para la columna 'razon_ingreso_tardio_ed_mayor': 6171\n",
      "Gráfico guardado en 'sede\\Santiago/3_wordcloud_razon_ingreso_tardio_ed_mayor.png'!\n",
      "Número de palabras después del preprocesamiento para la columna 'quien_red_apoyo': 56\n"
     ]
    },
    {
     "name": "stderr",
     "output_type": "stream",
     "text": [
      "C:\\Users\\yerko.gallardo\\AppData\\Local\\Temp\\ipykernel_6720\\554020761.py:2: SettingWithCopyWarning: \n",
      "A value is trying to be set on a copy of a slice from a DataFrame.\n",
      "Try using .loc[row_indexer,col_indexer] = value instead\n",
      "\n",
      "See the caveats in the documentation: https://pandas.pydata.org/pandas-docs/stable/user_guide/indexing.html#returning-a-view-versus-a-copy\n",
      "  df.loc[:, 'text'] = df[column].fillna('')\n",
      "C:\\Users\\yerko.gallardo\\AppData\\Local\\Temp\\ipykernel_6720\\554020761.py:3: SettingWithCopyWarning: \n",
      "A value is trying to be set on a copy of a slice from a DataFrame.\n",
      "Try using .loc[row_indexer,col_indexer] = value instead\n",
      "\n",
      "See the caveats in the documentation: https://pandas.pydata.org/pandas-docs/stable/user_guide/indexing.html#returning-a-view-versus-a-copy\n",
      "  df.loc[:, 'text'] = df['text'].str.lower()\n",
      "C:\\Users\\yerko.gallardo\\AppData\\Local\\Temp\\ipykernel_6720\\554020761.py:5: SettingWithCopyWarning: \n",
      "A value is trying to be set on a copy of a slice from a DataFrame.\n",
      "Try using .loc[row_indexer,col_indexer] = value instead\n",
      "\n",
      "See the caveats in the documentation: https://pandas.pydata.org/pandas-docs/stable/user_guide/indexing.html#returning-a-view-versus-a-copy\n",
      "  df.loc[:, 'text'] = df['text'].str.replace('[^\\w\\s]', '', regex=False)\n",
      "C:\\Users\\yerko.gallardo\\AppData\\Local\\Temp\\ipykernel_6720\\554020761.py:7: SettingWithCopyWarning: \n",
      "A value is trying to be set on a copy of a slice from a DataFrame.\n",
      "Try using .loc[row_indexer,col_indexer] = value instead\n",
      "\n",
      "See the caveats in the documentation: https://pandas.pydata.org/pandas-docs/stable/user_guide/indexing.html#returning-a-view-versus-a-copy\n",
      "  df.loc[:, 'text'] = df['text'].apply(lambda x: ' '.join([word for word in word_tokenize(x) if word.lower() not in stop_words_esp]))\n",
      "C:\\Users\\yerko.gallardo\\AppData\\Local\\Temp\\ipykernel_6720\\554020761.py:9: SettingWithCopyWarning: \n",
      "A value is trying to be set on a copy of a slice from a DataFrame.\n",
      "Try using .loc[row_indexer,col_indexer] = value instead\n",
      "\n",
      "See the caveats in the documentation: https://pandas.pydata.org/pandas-docs/stable/user_guide/indexing.html#returning-a-view-versus-a-copy\n",
      "  df.loc[:, 'text'] = df['text'].apply(word_tokenize)\n",
      "C:\\Users\\yerko.gallardo\\AppData\\Local\\Temp\\ipykernel_6720\\554020761.py:11: SettingWithCopyWarning: \n",
      "A value is trying to be set on a copy of a slice from a DataFrame.\n",
      "Try using .loc[row_indexer,col_indexer] = value instead\n",
      "\n",
      "See the caveats in the documentation: https://pandas.pydata.org/pandas-docs/stable/user_guide/indexing.html#returning-a-view-versus-a-copy\n",
      "  df.loc[:, 'text'] = df['text'].apply(lambda x: [unidecode(word) for word in x])\n"
     ]
    },
    {
     "name": "stdout",
     "output_type": "stream",
     "text": [
      "Gráfico guardado en 'sede\\Temuco/9_wordcloud_quien_red_apoyo.png'!\n",
      "Número de palabras después del preprocesamiento para la columna 'situacion_discapacidad': 192\n",
      "Gráfico guardado en 'sede\\Temuco/15_wordcloud_situacion_discapacidad.png'!\n",
      "Número de palabras después del preprocesamiento para la columna 'comentario_dificultad': 494\n",
      "Gráfico guardado en 'sede\\Temuco/18_wordcloud_comentario_dificultad.png'!\n",
      "Número de palabras después del preprocesamiento para la columna 'comentar_situacion_cuidados_campus': 143\n",
      "Gráfico guardado en 'sede\\Temuco/20_wordcloud_comentar_situacion_cuidados_campus.png'!\n",
      "Número de palabras después del preprocesamiento para la columna 'dependientes_de_estudiante': 167\n",
      "Gráfico guardado en 'sede\\Temuco/29_wordcloud_dependientes_de_estudiante.png'!\n",
      "Número de palabras después del preprocesamiento para la columna 'quien_depende_estudiante': 253\n",
      "Gráfico guardado en 'sede\\Temuco/30_wordcloud_quien_depende_estudiante.png'!\n",
      "Número de palabras después del preprocesamiento para la columna 'factores_dificultad_estudio': 1330\n",
      "Gráfico guardado en 'sede\\Temuco/36_wordcloud_factores_dificultad_estudio.png'!\n",
      "Número de palabras después del preprocesamiento para la columna 'situacion_dificultad': 921\n",
      "Gráfico guardado en 'sede\\Temuco/38_wordcloud_situacion_dificultad.png'!\n",
      "Número de palabras después del preprocesamiento para la columna 'indica_deporte_hobbie': 806\n",
      "Gráfico guardado en 'sede\\Temuco/48_wordcloud_indica_deporte_hobbie.png'!\n",
      "Número de palabras después del preprocesamiento para la columna 'genero_se_identifica': 606\n",
      "Gráfico guardado en 'sede\\Temuco/11_wordcloud_genero_se_identifica.png'!\n",
      "Número de palabras después del preprocesamiento para la columna 'razon_ingreso_tardio_ed_mayor': 878\n",
      "Gráfico guardado en 'sede\\Temuco/3_wordcloud_razon_ingreso_tardio_ed_mayor.png'!\n"
     ]
    }
   ],
   "source": [
    "for carr in sede.index:\n",
    "    ruta = os.path.join(directorio_base, carr)\n",
    "    df_carrera = df[df['sede'] == carr]\n",
    "    for cloud in wcloud:\n",
    "        words = text_preproc(df_carrera, cloud)\n",
    "        \n",
    "        if words:\n",
    "            wordcloud = WordCloud(width=800, height=400, background_color='white', stopwords=STOPWORDS, collocations=False).generate(words)\n",
    "            plt.figure(figsize=(8,6))\n",
    "            plt.imshow(wordcloud, interpolation='bilinear')\n",
    "            plt.axis('off')\n",
    "            \n",
    "            titulo = def_dic.get(cloud)\n",
    "            plt.xlim(right=plt.xlim()[1] * 1.1)\n",
    "            descripcion_recortada = '\\n'.join(textwrap.wrap(titulo, width=60))\n",
    "            plt.text(0.5, -0.20, descripcion_recortada, ha='center', va='center', transform=plt.gca().transAxes)\n",
    "            \n",
    "            num_titulo = next((clave for clave, valor in num_dic.items() if valor == titulo), None)\n",
    "            nombre_archivo = f\"{num_titulo}_wordcloud_{cloud}.png\" if titulo else \"wordcloud.png\"\n",
    "            plt.tight_layout()\n",
    "            # Guardar el gráfico en una imagen\n",
    "            plt.savefig(os.path.join(ruta, nombre_archivo))\n",
    "            plt.close()\n",
    "            print(f\"Gráfico guardado en '{ruta}/{nombre_archivo}'!\")\n",
    "        else:\n",
    "            print(f\"No se encontraron palabras para generar la nube de palabras en la columna '{cloud}'.\")\n"
   ]
  },
  {
   "cell_type": "code",
   "execution_count": null,
   "id": "2de1a458",
   "metadata": {},
   "outputs": [],
   "source": []
  },
  {
   "cell_type": "code",
   "execution_count": 25,
   "id": "1f996e5f",
   "metadata": {},
   "outputs": [
    {
     "name": "stdout",
     "output_type": "stream",
     "text": [
      "Gráfico guardado en 'sede\\Santiago/1_gra_declaracion_uso_datos.png'!\n",
      "Gráfico guardado en 'sede\\Santiago/2_gra_t_desde_egreso.png'!\n",
      "Gráfico guardado en 'sede\\Santiago/4_gra_estudia_antes_edsup.png'!\n",
      "Gráfico guardado en 'sede\\Santiago/5_gra_finalizo_est_antes_edsup.png'!\n",
      "Gráfico guardado en 'sede\\Santiago/6_gra_estado_civil.png'!\n",
      "Gráfico guardado en 'sede\\Santiago/7_gra_tiene_hijos.png'!\n",
      "Gráfico guardado en 'sede\\Santiago/8_gra_red_apoyo.png'!\n",
      "Gráfico guardado en 'sede\\Santiago/10_gra_etnia.png'!\n",
      "Gráfico guardado en 'sede\\Santiago/14_gra_declara_discapacidad.png'!\n",
      "Gráfico guardado en 'sede\\Santiago/19_gra_cuidados_dentro_campus.png'!\n",
      "Gráfico guardado en 'sede\\Santiago/23_gra_tramo_registro_social.png'!\n",
      "Gráfico guardado en 'sede\\Santiago/24_gra_cuantos_convive_2023.png'!\n",
      "Gráfico guardado en 'sede\\Santiago/26_gra_situacion_laboral.png'!\n",
      "Gráfico guardado en 'sede\\Santiago/27_gra_horas_semanales_laboral.png'!\n",
      "Gráfico guardado en 'sede\\Santiago/28_gra_dependencia_grupo_familiar.png'!\n",
      "Gráfico guardado en 'sede\\Santiago/31_gra_horas_cuidado_estudiante.png'!\n",
      "Gráfico guardado en 'sede\\Santiago/33_gra_acceso_medio_digital.png'!\n",
      "Gráfico guardado en 'sede\\Santiago/34_gra_uso_exclusivo_medio_digital.png'!\n",
      "Gráfico guardado en 'sede\\Santiago/35_gra_acceso_internet_alumno.png'!\n",
      "Gráfico guardado en 'sede\\Santiago/37_gra_dificultad_trayecto.png'!\n",
      "Gráfico guardado en 'sede\\Santiago/42_gra_requiere_pares_mentores.png'!\n",
      "Gráfico guardado en 'sede\\Santiago/43_gra_tiempo_traslado.png'!\n",
      "Gráfico guardado en 'sede\\Santiago/44_gra_medio_transporte.png'!\n",
      "Gráfico guardado en 'sede\\Santiago/47_gra_practica_deporte_hobbie.png'!\n",
      "Gráfico guardado en 'sede\\Santiago/12_gra_orientacion_sexual.png'!\n",
      "Gráfico guardado en 'sede\\Santiago/17_gra_condicion_dificultad_clases.png'!\n",
      "Gráfico guardado en 'sede\\Santiago/25_gra_situacion_laboral_jefe_hogar.png'!\n",
      "Gráfico guardado en 'sede\\Santiago/32_gra_lugar_estudio_alumno.png'!\n",
      "Gráfico guardado en 'sede\\Santiago/11_gra_genero_identifica_mfo.png'!\n",
      "Gráfico guardado en 'sede\\Temuco/1_gra_declaracion_uso_datos.png'!\n",
      "Gráfico guardado en 'sede\\Temuco/2_gra_t_desde_egreso.png'!\n",
      "Gráfico guardado en 'sede\\Temuco/4_gra_estudia_antes_edsup.png'!\n",
      "Gráfico guardado en 'sede\\Temuco/5_gra_finalizo_est_antes_edsup.png'!\n",
      "Gráfico guardado en 'sede\\Temuco/6_gra_estado_civil.png'!\n",
      "Gráfico guardado en 'sede\\Temuco/7_gra_tiene_hijos.png'!\n",
      "Gráfico guardado en 'sede\\Temuco/8_gra_red_apoyo.png'!\n",
      "Gráfico guardado en 'sede\\Temuco/10_gra_etnia.png'!\n",
      "Gráfico guardado en 'sede\\Temuco/14_gra_declara_discapacidad.png'!\n",
      "Gráfico guardado en 'sede\\Temuco/19_gra_cuidados_dentro_campus.png'!\n",
      "Gráfico guardado en 'sede\\Temuco/23_gra_tramo_registro_social.png'!\n",
      "Gráfico guardado en 'sede\\Temuco/24_gra_cuantos_convive_2023.png'!\n",
      "Gráfico guardado en 'sede\\Temuco/26_gra_situacion_laboral.png'!\n",
      "Gráfico guardado en 'sede\\Temuco/27_gra_horas_semanales_laboral.png'!\n",
      "Gráfico guardado en 'sede\\Temuco/28_gra_dependencia_grupo_familiar.png'!\n",
      "Gráfico guardado en 'sede\\Temuco/31_gra_horas_cuidado_estudiante.png'!\n",
      "Gráfico guardado en 'sede\\Temuco/33_gra_acceso_medio_digital.png'!\n",
      "Gráfico guardado en 'sede\\Temuco/34_gra_uso_exclusivo_medio_digital.png'!\n",
      "Gráfico guardado en 'sede\\Temuco/35_gra_acceso_internet_alumno.png'!\n",
      "Gráfico guardado en 'sede\\Temuco/37_gra_dificultad_trayecto.png'!\n",
      "Gráfico guardado en 'sede\\Temuco/42_gra_requiere_pares_mentores.png'!\n",
      "Gráfico guardado en 'sede\\Temuco/43_gra_tiempo_traslado.png'!\n",
      "Gráfico guardado en 'sede\\Temuco/44_gra_medio_transporte.png'!\n",
      "Gráfico guardado en 'sede\\Temuco/47_gra_practica_deporte_hobbie.png'!\n",
      "Gráfico guardado en 'sede\\Temuco/12_gra_orientacion_sexual.png'!\n",
      "Gráfico guardado en 'sede\\Temuco/17_gra_condicion_dificultad_clases.png'!\n",
      "Gráfico guardado en 'sede\\Temuco/25_gra_situacion_laboral_jefe_hogar.png'!\n",
      "Gráfico guardado en 'sede\\Temuco/32_gra_lugar_estudio_alumno.png'!\n",
      "Gráfico guardado en 'sede\\Temuco/11_gra_genero_identifica_mfo.png'!\n"
     ]
    }
   ],
   "source": [
    "for carr in sede.index:\n",
    "    ruta = os.path.join(directorio_base, carr)\n",
    "    \n",
    "    df_carrera = df[df['sede'] == carr]\n",
    "    \n",
    "    nuevo_df = pd.DataFrame(df_carrera, columns=graficar)\n",
    "    # Seleccionar todas las columnas con tipo de dato \"object\"\n",
    "    columnas_object = nuevo_df.select_dtypes(include=['object']).columns\n",
    "    # Cambiar el tipo de dato de las columnas seleccionadas a \"categorical\"\n",
    "    nuevo_df[columnas_object] = nuevo_df[columnas_object].astype('category')    \n",
    "    for column in graficar:\n",
    "        # graficar_mod(df_carrera, gr)\n",
    "        # Obtener los valores y sus frecuencias, ordenados de forma descendente\n",
    "        value_counts = df_carrera[column].value_counts().sort_values(ascending=False)\n",
    "        # Verificar si hay valores únicos disponibles\n",
    "        if len(value_counts) == 0:\n",
    "            print(f\"No hay valores únicos disponibles para la columna '{column}'.\")\n",
    "            continue\n",
    "        # Crear un DataFrame ordenado con los valores y sus frecuencias\n",
    "        data = pd.DataFrame({column: value_counts.index, 'Cantidad de estudiantes': value_counts.values})\n",
    "        # Crear el gráfico de barras utilizando Seaborn\n",
    "        fig, ax = plt.subplots(figsize=(8,6))\n",
    "        ax = sns.barplot(x='Cantidad de estudiantes', y=column, data=data, order=value_counts.index)\n",
    "        wrap_labels(ax, 60)\n",
    "        # Configurar el título y las etiquetas de los ejes\n",
    "        titulo = def_dic[column] if column in def_dic else None\n",
    "        plt.title('Gráfico de ' + column)\n",
    "        plt.xlabel('Cantidad de estudiantes')\n",
    "        plt.ylabel(column)\n",
    "        ax.set_xlim(right=ax.get_xlim()[1] * 1.1)\n",
    "        descripcion_recortada = '\\n'.join(textwrap.wrap(titulo, width=60))\n",
    "        plt.text(0.5, -0.20, descripcion_recortada, ha='center', va='center', transform=ax.transAxes)\n",
    "        # Agregar los valores en las barras\n",
    "        for p in ax.patches:\n",
    "            width = p.get_width()\n",
    "            height = p.get_height()\n",
    "            x, y = p.get_xy() \n",
    "            value = int(width)\n",
    "            ax.annotate(f'{value}', (x + width, y + height/2), ha='left', va='center')\n",
    "        \n",
    "        num_titulo = next((clave for clave, valor in num_dic.items() if valor == titulo), None)\n",
    "        nombre_archivo = f\"{num_titulo}_gra_{column}.png\" if titulo else \"grafico.png\"\n",
    "        plt.tight_layout()\n",
    "        # Guardar el gráfico en una imagen\n",
    "        plt.savefig(os.path.join(ruta, nombre_archivo))\n",
    "        plt.close()\n",
    "        \n",
    "        print(f\"Gráfico guardado en '{ruta}/{nombre_archivo}'!\")\n"
   ]
  },
  {
   "cell_type": "code",
   "execution_count": null,
   "id": "8af53feb",
   "metadata": {},
   "outputs": [],
   "source": []
  },
  {
   "cell_type": "code",
   "execution_count": null,
   "id": "68c8f715",
   "metadata": {},
   "outputs": [],
   "source": []
  },
  {
   "cell_type": "code",
   "execution_count": 26,
   "id": "5cd9eda1",
   "metadata": {},
   "outputs": [],
   "source": [
    "## Diccionario con las variables a graficar y con la cantidad de respuestas originales\n",
    "multi_dic = {\n",
    "    'acreditacion_discapacidad': 5,\n",
    "    'estudios_familiar': 6,\n",
    "    'mayores_habilidades': 8,\n",
    "    'area_aprendizaje_quiere_potenciar': 8,\n",
    "    'apoyo_pedadogico_requiere': 5,\n",
    "    'actividades_de_interes': 8,\n",
    "    'preferencias_estudio': 6,\n",
    "    'preferencia_act_extracurricular': 4,\n",
    "}"
   ]
  },
  {
   "cell_type": "code",
   "execution_count": 27,
   "id": "69c5ed14",
   "metadata": {},
   "outputs": [],
   "source": [
    "## Esta función cuenta realiza la suma de los valores dummies, los junta en un nuevo dataset y los ordena\n",
    "def rep_otros(dataset, num): \n",
    "    sum_values = dataset.sum().sort_values(ascending=False)\n",
    "    sorted_dataset = dataset[sum_values.index]\n",
    "    originales = sorted_dataset.iloc[:, :num]\n",
    "    columnas_a_contar = sorted_dataset.iloc[:, num:]\n",
    "    suma_total_coincidencias = columnas_a_contar.sum().sum()\n",
    "    nueva_fila = pd.DataFrame({'Otros': [suma_total_coincidencias]})\n",
    "    multi_un = pd.concat([originales, nueva_fila], ignore_index=True).fillna(0)\n",
    "    sum_values = multi_un.sum().sort_values(ascending=False)\n",
    "    sorted_dataset = multi_un[sum_values.index]\n",
    "    multi_sorted = sorted_dataset.copy()\n",
    "    return multi_sorted"
   ]
  },
  {
   "cell_type": "code",
   "execution_count": 28,
   "id": "df3d3ffd",
   "metadata": {},
   "outputs": [],
   "source": [
    "def gra_multi_resp(multi, op, column, ruta):\n",
    "    multi_sor = rep_otros(multi, op)\n",
    "    #column = columna\n",
    "    fig, ax = plt.subplots(figsize=(8,6))\n",
    "    sns.barplot(x=multi_sor.sum().values, y=multi_sor.columns, ax=ax, order=multi_sor.sum().sort_values(ascending=False).index)\n",
    "    plt.yticks(fontsize=8)\n",
    "    wrap_labels(ax, 40)\n",
    "    titulo = def_dic[column] if column in def_dic else None\n",
    "    #plt.title('Gráfico de ' + column)\n",
    "    plt.title('Gráfico de ' + str(column))\n",
    "    plt.xlabel('Cantidad de estudiantes')\n",
    "    plt.ylabel(column)\n",
    "    ax.set_xlim(right=ax.get_xlim()[1] * 1.1)\n",
    "    #descripcion_recortada = '\\n'.join(textwrap.wrap(titulo, width=60))\n",
    "    descripcion_recortada = '\\n'.join(textwrap.wrap(titulo, width=60)) if titulo is not None else ''\n",
    "    plt.text(0.5, -0.20, descripcion_recortada, ha='center', va='center', transform=ax.transAxes)\n",
    "    # Agregar los valores en las barras\n",
    "    for p in ax.patches:\n",
    "        width = p.get_width()\n",
    "        height = p.get_height()\n",
    "        x, y = p.get_xy() \n",
    "        value = int(width)\n",
    "        ax.annotate(f'{value}', (x + width, y + height/2), ha='left', va='center')\n",
    "    num_titulo = next((clave for clave, valor in num_dic.items() if valor == titulo), None)\n",
    "    nombre_archivo = f\"{num_titulo}_gra_op_{column}.png\" if titulo else \"grafico_op.png\"\n",
    "    plt.tight_layout()\n",
    "    # Guardar el gráfico en una imagen\n",
    "    plt.savefig(os.path.join(ruta, nombre_archivo))\n",
    "    plt.close()\n",
    "        \n",
    "    print(f\"Gráfico guardado en '{ruta}/{nombre_archivo}'!\")"
   ]
  },
  {
   "cell_type": "code",
   "execution_count": 29,
   "id": "44425eba",
   "metadata": {},
   "outputs": [
    {
     "name": "stdout",
     "output_type": "stream",
     "text": [
      "Gráfico guardado en 'sede\\Santiago/16_gra_op_acreditacion_discapacidad.png'!\n",
      "Gráfico guardado en 'sede\\Santiago/22_gra_op_estudios_familiar.png'!\n",
      "Gráfico guardado en 'sede\\Santiago/39_gra_op_mayores_habilidades.png'!\n",
      "Gráfico guardado en 'sede\\Santiago/40_gra_op_area_aprendizaje_quiere_potenciar.png'!\n",
      "Gráfico guardado en 'sede\\Santiago/41_gra_op_apoyo_pedadogico_requiere.png'!\n",
      "Gráfico guardado en 'sede\\Santiago/45_gra_op_actividades_de_interes.png'!\n",
      "Gráfico guardado en 'sede\\Santiago/46_gra_op_preferencias_estudio.png'!\n",
      "Gráfico guardado en 'sede\\Santiago/49_gra_op_preferencia_act_extracurricular.png'!\n",
      "Gráfico guardado en 'sede\\Temuco/16_gra_op_acreditacion_discapacidad.png'!\n",
      "Gráfico guardado en 'sede\\Temuco/22_gra_op_estudios_familiar.png'!\n",
      "Gráfico guardado en 'sede\\Temuco/39_gra_op_mayores_habilidades.png'!\n",
      "Gráfico guardado en 'sede\\Temuco/40_gra_op_area_aprendizaje_quiere_potenciar.png'!\n",
      "Gráfico guardado en 'sede\\Temuco/41_gra_op_apoyo_pedadogico_requiere.png'!\n",
      "Gráfico guardado en 'sede\\Temuco/45_gra_op_actividades_de_interes.png'!\n",
      "Gráfico guardado en 'sede\\Temuco/46_gra_op_preferencias_estudio.png'!\n",
      "Gráfico guardado en 'sede\\Temuco/49_gra_op_preferencia_act_extracurricular.png'!\n"
     ]
    }
   ],
   "source": [
    "for carr in sede.index:\n",
    "    ruta = os.path.join(directorio_base, carr)\n",
    "    df_carrera = df[df['sede'] == carr]\n",
    "    for columna, op in multi_dic.items():\n",
    "        mul = df_carrera[columna].str.get_dummies(sep=';')\n",
    "        gra_multi_resp(mul, op, columna, ruta)"
   ]
  },
  {
   "cell_type": "code",
   "execution_count": null,
   "id": "0c9f8ef8",
   "metadata": {},
   "outputs": [],
   "source": []
  },
  {
   "cell_type": "code",
   "execution_count": null,
   "id": "541efd53",
   "metadata": {},
   "outputs": [],
   "source": []
  }
 ],
 "metadata": {
  "kernelspec": {
   "display_name": "Python 3 (ipykernel)",
   "language": "python",
   "name": "python3"
  },
  "language_info": {
   "codemirror_mode": {
    "name": "ipython",
    "version": 3
   },
   "file_extension": ".py",
   "mimetype": "text/x-python",
   "name": "python",
   "nbconvert_exporter": "python",
   "pygments_lexer": "ipython3",
   "version": "3.9.12"
  }
 },
 "nbformat": 4,
 "nbformat_minor": 5
}
